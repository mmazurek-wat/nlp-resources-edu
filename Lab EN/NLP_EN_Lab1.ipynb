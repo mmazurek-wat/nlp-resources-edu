{
  "nbformat": 4,
  "nbformat_minor": 0,
  "metadata": {
    "colab": {
      "provenance": [],
      "authorship_tag": "ABX9TyMkybWtXwMSdPp59nF91n7S",
      "include_colab_link": true
    },
    "kernelspec": {
      "name": "python3",
      "display_name": "Python 3"
    },
    "language_info": {
      "name": "python"
    }
  },
  "cells": [
    {
      "cell_type": "markdown",
      "metadata": {
        "id": "view-in-github",
        "colab_type": "text"
      },
      "source": [
        "<a href=\"https://colab.research.google.com/github/mmazurek-wat/nlp-en-lab/blob/main/NLP_EN_Lab1.ipynb\" target=\"_parent\"><img src=\"https://colab.research.google.com/assets/colab-badge.svg\" alt=\"Open In Colab\"/></a>"
      ]
    },
    {
      "cell_type": "markdown",
      "source": [
        "# Programming assignment 1 \n",
        "\n",
        "In this exercise you can freely choose any NLP library:\n",
        "\n",
        "https://www.nltk.org/\n",
        "\n",
        "https://spacy.io/\n",
        "\n",
        "https://radimrehurek.com/gensim/\n",
        "\n"
      ],
      "metadata": {
        "id": "GQ-N-ih-tn8a",
        "pycharm": {
          "name": "#%% md\n"
        }
      }
    },
    {
      "cell_type": "markdown",
      "source": [
        "\n",
        "\n",
        "\n",
        "# 1 Sourcing\n",
        "Download 5-10 books (you can find books in plain text format on: https://www.gutenberg.org/browse/scores/top)  with requests library  (https://docs.python-requests.org/en/latest/) \n",
        "\n",
        "Create **corpora**  as list where each element of list contains text from single book \n",
        "\n",
        "\n"
      ],
      "metadata": {
        "id": "tBZqGg44mED4",
        "pycharm": {
          "name": "#%% md\n"
        }
      }
    },
    {
      "cell_type": "code",
      "source": [
        "https://www.gutenberg.org/files/11/11-0.txt  # Alice in wonderland \n",
        "\n",
        "\n",
        "# add up to 10 more and save it in list.\n",
        "# download it with https://docs.python-requests.org/en/latest/\n",
        "\n",
        "\n",
        "\n"
      ],
      "metadata": {
        "id": "PgauC9f1mRBs",
        "pycharm": {
          "name": "#%%\n"
        }
      },
      "execution_count": null,
      "outputs": []
    },
    {
      "cell_type": "markdown",
      "source": [
        "# 2  Preprocessing \n",
        "\n",
        "Preprocess documents using nltk library:\n",
        "\n",
        "* remove stopwords \n",
        "* remove tokens containing non-alphanumeric characters \n",
        "* apply lowercase \n",
        "* apply lemmatization\n",
        "\n",
        "\n"
      ],
      "metadata": {
        "id": "gG4PxJQvmqGS",
        "pycharm": {
          "name": "#%% md\n"
        }
      }
    },
    {
      "cell_type": "code",
      "source": [
        "# nltk library"
      ],
      "metadata": {
        "id": "kLvBjalYr4FK",
        "pycharm": {
          "name": "#%%\n"
        }
      },
      "execution_count": null,
      "outputs": []
    },
    {
      "cell_type": "markdown",
      "source": [
        "# 3 Word Frequency and Zipf Law\n",
        "\n",
        "For each document create frequency plots. You can use any of this: \n",
        "* CountVectorizer from sklearn library \n",
        "* plain counter \n",
        "\n",
        "\n",
        "Check whether Zipf's law holds for  selected documents. \n",
        "\n",
        "Example output:\n",
        "\n",
        "![image.png](data:image/png;base64,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)"
      ],
      "metadata": {
        "id": "khQGTEeGmRvj",
        "pycharm": {
          "name": "#%% md\n"
        }
      }
    },
    {
      "cell_type": "code",
      "source": [
        "from collections import Counter\n",
        "from sklearn.feature_extraction.text import CountVectorizer\n",
        "\n",
        "\n",
        "\n",
        "#"
      ],
      "metadata": {
        "id": "ZcLZi2sOr483",
        "pycharm": {
          "name": "#%%\n"
        }
      },
      "execution_count": null,
      "outputs": []
    },
    {
      "cell_type": "markdown",
      "source": [
        "#4 TF-IDF\n",
        "\n",
        "Create TF-IDF matrix for corpus using TfidfVectorizer\n",
        "\n"
      ],
      "metadata": {
        "id": "mnuq46jmnPk5",
        "pycharm": {
          "name": "#%% md\n"
        }
      }
    },
    {
      "cell_type": "code",
      "source": [
        "from sklearn.feature_extraction.text import TfidfVectorizer"
      ],
      "metadata": {
        "id": "8QpktnETsA0S",
        "pycharm": {
          "name": "#%%\n"
        }
      },
      "execution_count": null,
      "outputs": []
    },
    {
      "cell_type": "markdown",
      "source": [
        "#5 Document similarity\n",
        "\n",
        "Using cosine similarity find similarity between documents for each pair of documents in the corpus. You can use: #https://scikit-learn.org/stable/modules/generated/sklearn.metrics.pairwise.cosine_similarity.html\n",
        "\n",
        "Print similarity  matrix for the corpus. \n",
        "\n",
        "Which two documents are the most similar ones? Which are different ? Write your answer in text cell below."
      ],
      "metadata": {
        "id": "OXnT6n1FnaUN",
        "pycharm": {
          "name": "#%% md\n"
        }
      }
    },
    {
      "cell_type": "code",
      "source": [],
      "metadata": {
        "id": "ZsJn6v7ICrl-",
        "pycharm": {
          "name": "#%%\n"
        }
      },
      "execution_count": null,
      "outputs": []
    },
    {
      "cell_type": "markdown",
      "source": [
        "Your comment on this: "
      ],
      "metadata": {
        "id": "KPDw8ZnBQPg4"
      }
    },
    {
      "cell_type": "markdown",
      "source": [
        "# 7  PCA \n",
        "Using PCA (Principal Component Analysis)  represent each document as a point in 2-dimensional space. \n",
        "\n",
        "https://scikit-learn.org/stable/modules/generated/sklearn.decomposition.PCA.html\n",
        "\n",
        "\n",
        "Visulize documents on  dot-chart. Remember to add observation labels (doc titles) to points on chart. \n",
        "\n",
        "How does output correlate to similarity matrix  ?\n",
        "\n",
        "Example output: \n",
        "\n",
        "![image.png](data:image/png;base64,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)"
      ],
      "metadata": {
        "id": "F_alZnhsoVmr",
        "pycharm": {
          "name": "#%% md\n"
        }
      }
    },
    {
      "cell_type": "code",
      "source": [],
      "metadata": {
        "id": "JXaXKuDRoGX5",
        "pycharm": {
          "name": "#%%\n"
        }
      },
      "execution_count": null,
      "outputs": []
    }
  ]
}