{
 "nbformat": 4,
 "nbformat_minor": 0,
 "metadata": {
  "colab": {
   "provenance": [],
   "authorship_tag": "ABX9TyNWqQUcmQvg+Tfy4DB0w87L",
   "include_colab_link": true
  },
  "kernelspec": {
   "name": "python3",
   "display_name": "Python 3"
  },
  "language_info": {
   "name": "python"
  }
 },
 "cells": [
  {
   "cell_type": "markdown",
   "metadata": {
    "id": "view-in-github",
    "colab_type": "text"
   },
   "source": [
    "<a href=\"https://colab.research.google.com/github/mmazurek-wat/nlp-en-lab/blob/main/NLP_EN_Lab2.ipynb\" target=\"_parent\"><img src=\"https://colab.research.google.com/assets/colab-badge.svg\" alt=\"Open In Colab\"/></a>"
   ]
  },
  {
   "cell_type": "markdown",
   "source": [
    "# Programming assignment 2\n",
    "In this exercise you can freely choose any NLP library:\n",
    "\n",
    "https://www.nltk.org/\n",
    "\n",
    "https://spacy.io/\n",
    "\n",
    "https://radimrehurek.com/gensim/"
   ],
   "metadata": {
    "id": "y8zJsJaaaCCm"
   }
  },
  {
   "cell_type": "markdown",
   "source": [
    "\n",
    "## 1 Sourcing\n",
    "Download 5-10 books (you can find books in plain text format on: https://www.gutenberg.org/browse/scores/top)  with requests library  (https://docs.python-requests.org/en/latest/) \n",
    "\n",
    "Create **corpora**  as list where each element of list contains text from single book \n"
   ],
   "metadata": {
    "id": "2JXXgrdhSTK_"
   }
  },
  {
   "cell_type": "code",
   "source": [
    "https://www.gutenberg.org/files/11/11-0.txt  # Alice in wonderland \n",
    "\n",
    "\n",
    "# add up to 10 more and save it in list.\n",
    "# download it with https://docs.python-requests.org/en/latest/\n"
   ],
   "metadata": {
    "id": "Pt2DTv10SVk7",
    "is_executing": true
   },
   "execution_count": null,
   "outputs": []
  },
  {
   "cell_type": "markdown",
   "source": [
    "\n",
    "## 2  Part of Speech tagging\n",
    "\n",
    "For each document create frequency plots of  Part of Speech \n",
    "\n",
    "\n"
   ],
   "metadata": {
    "id": "mzcj6zYGViWd"
   }
  },
  {
   "cell_type": "code",
   "source": [
    "\n"
   ],
   "metadata": {
    "id": "g0eUdhiTSZJa"
   },
   "execution_count": 1,
   "outputs": []
  },
  {
   "cell_type": "markdown",
   "source": [
    "## 3  Lemmatization\n",
    "For the whole corpus create frequency plots of verbs presented in canonical (dictionary) form (lemma). \n",
    "\n",
    "\n"
   ],
   "metadata": {
    "id": "cHc_vbjiVwoI"
   }
  },
  {
   "cell_type": "code",
   "source": [],
   "metadata": {
    "id": "c6PlBnYQVvyj"
   },
   "execution_count": null,
   "outputs": []
  },
  {
   "cell_type": "markdown",
   "source": [
    "## 4 Noun-based TF-IDF\n",
    "Create TF-IDF matrix for nouns dictionary form (lemma) "
   ],
   "metadata": {
    "id": "xuPq2PhSWlUP"
   }
  },
  {
   "cell_type": "code",
   "source": [],
   "metadata": {
    "id": "3kGw7WqjVdM7"
   },
   "execution_count": null,
   "outputs": []
  },
  {
   "cell_type": "markdown",
   "source": [
    "## 5  Word cloud\n",
    "\n",
    "For each document in corpus create word-cloud chart presenting its keyword.\n"
   ],
   "metadata": {
    "id": "sEltush6XAKl"
   }
  },
  {
   "cell_type": "code",
   "source": [],
   "metadata": {
    "id": "ynD5uEIGW_MT"
   },
   "execution_count": null,
   "outputs": []
  },
  {
   "cell_type": "markdown",
   "source": [
    "## 6 Word sense disambiguation\n",
    "\n",
    "Write code to find tokens which can be assigned to different lemmas.  "
   ],
   "metadata": {
    "id": "BY0kjZPdXawU"
   }
  },
  {
   "cell_type": "code",
   "source": [],
   "metadata": {
    "id": "1TBlrQnmX18A"
   },
   "execution_count": null,
   "outputs": []
  },
  {
   "cell_type": "markdown",
   "source": [
    "## 7 Subject and verbs\n",
    "\n",
    "Write code fo find 5 examples of pairs of **subject** and corresponding **verb**."
   ],
   "metadata": {
    "id": "8MDFy81hX5Vq"
   }
  },
  {
   "cell_type": "code",
   "execution_count": null,
   "outputs": [],
   "source": [],
   "metadata": {
    "collapsed": false
   }
  }
 ]
}
